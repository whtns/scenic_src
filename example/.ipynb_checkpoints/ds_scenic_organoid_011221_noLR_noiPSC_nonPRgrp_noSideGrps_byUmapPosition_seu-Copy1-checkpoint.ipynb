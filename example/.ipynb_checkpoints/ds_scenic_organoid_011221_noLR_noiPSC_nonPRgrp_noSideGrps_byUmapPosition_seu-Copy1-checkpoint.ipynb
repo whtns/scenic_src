{
 "cells": [
  {
   "cell_type": "markdown",
   "metadata": {},
   "source": [
    "# pySCENIC protocol: organoid data\n",
    "\n",
    "June 2020\n",
    "\n",
    "Dataset: organoid from Dominic\n",
    "\n",
    "This notebook uses a loom file generated from the first part of the SCENIC protocol, described in: [PBMC10k_SCENIC-protocol-CLI.ipynb](https://github.com/aertslab/SCENICprotocol/blob/master/notebooks/PBMC10k_SCENIC-protocol-CLI.ipynb)"
   ]
  },
  {
   "cell_type": "code",
   "execution_count": 1,
   "metadata": {},
   "outputs": [
    {
     "name": "stderr",
     "output_type": "stream",
     "text": [
      "/opt/miniconda3/envs/scenic_protocol/lib/python3.6/site-packages/sklearn/utils/deprecation.py:143: FutureWarning: The sklearn.manifold.t_sne module is  deprecated in version 0.22 and will be removed in version 0.24. The corresponding classes / functions should instead be imported from sklearn.manifold. Anything that cannot be imported from sklearn.manifold is now part of the private API.\n",
      "  warnings.warn(message, FutureWarning)\n"
     ]
    }
   ],
   "source": [
    "# import dependencies\n",
    "import os\n",
    "import numpy as np\n",
    "import pandas as pd\n",
    "import scanpy as sc\n",
    "import loompy as lp\n",
    "from MulticoreTSNE import MulticoreTSNE as TSNE\n",
    "import json\n",
    "import base64\n",
    "import zlib\n",
    "from pyscenic.plotting import plot_binarization\n",
    "from pyscenic.export import add_scenic_metadata\n",
    "from pyscenic.cli.utils import load_signatures\n",
    "import matplotlib as mpl\n",
    "import matplotlib.pyplot as plt\n",
    "# from scanpy.plotting._tools.scatterplots import plot_scatter\n",
    "import seaborn as sns"
   ]
  },
  {
   "cell_type": "markdown",
   "metadata": {},
   "source": [
    "#### set variables for file paths to read from and write to:"
   ]
  },
  {
   "cell_type": "code",
   "execution_count": 2,
   "metadata": {},
   "outputs": [
    {
     "data": {
      "text/plain": [
       "'/dataVolume/storage/single_cell_projects/sc_cone_devel/sc_cone_devel_organoid/20181001-DS-organoid-Hs_proj'"
      ]
     },
     "execution_count": 2,
     "metadata": {},
     "output_type": "execute_result"
    }
   ],
   "source": [
    "# set a working directory\n",
    "wdir = '/home/skevin/single_cell_projects/sc_cone_devel/sc_cone_devel_organoid/20181001-DS-organoid-Hs_proj/'\n",
    "os.chdir( wdir )\n",
    "os.getcwd()"
   ]
  },
  {
   "cell_type": "code",
   "execution_count": 3,
   "metadata": {},
   "outputs": [],
   "source": [
    "# path to loom output, generated from a combination of Scanpy and pySCENIC results:\n",
    "#loom_file = 'output/scenic/090520_noLR_noiPSC_nonPRgrp_noSideGrps_seu-final.loom'\n",
    "loom_file = 'output/scenic/011221_noLR_noiPSC_nonPRgrp_noSideGrps_byUmapPosition_seu-final.loom'\n",
    "\n",
    "adata_file = loom_file.replace(\"-final.loom\", \".h5ad\")\n",
    "\n"
   ]
  },
  {
   "cell_type": "code",
   "execution_count": 4,
   "metadata": {},
   "outputs": [
    {
     "name": "stderr",
     "output_type": "stream",
     "text": [
      "WARNING: If you miss a compact list, please try `print_header`!\n"
     ]
    },
    {
     "ename": "TypeError",
     "evalue": "version() missing 1 required positional argument: 'distribution_name'",
     "output_type": "error",
     "traceback": [
      "\u001b[0;31m---------------------------------------------------------------------------\u001b[0m",
      "\u001b[0;31mAttributeError\u001b[0m                            Traceback (most recent call last)",
      "\u001b[0;32m/opt/miniconda3/envs/scenic_protocol/lib/python3.6/site-packages/sinfo/main.py\u001b[0m in \u001b[0;36msinfo\u001b[0;34m(na, os, cpu, jupyter, dependencies, std_lib, private, write_req_file, req_file_name, html, excludes)\u001b[0m\n\u001b[1;32m    194\u001b[0m             \u001b[0;32mtry\u001b[0m\u001b[0;34m:\u001b[0m\u001b[0;34m\u001b[0m\u001b[0;34m\u001b[0m\u001b[0m\n\u001b[0;32m--> 195\u001b[0;31m                 \u001b[0mmod_version\u001b[0m \u001b[0;34m=\u001b[0m \u001b[0m_find_version\u001b[0m\u001b[0;34m(\u001b[0m\u001b[0mmod\u001b[0m\u001b[0;34m.\u001b[0m\u001b[0m__version__\u001b[0m\u001b[0;34m)\u001b[0m\u001b[0;34m\u001b[0m\u001b[0;34m\u001b[0m\u001b[0m\n\u001b[0m\u001b[1;32m    196\u001b[0m             \u001b[0;32mexcept\u001b[0m \u001b[0mAttributeError\u001b[0m\u001b[0;34m:\u001b[0m\u001b[0;34m\u001b[0m\u001b[0;34m\u001b[0m\u001b[0m\n",
      "\u001b[0;31mAttributeError\u001b[0m: module 'importlib_metadata' has no attribute '__version__'",
      "\nDuring handling of the above exception, another exception occurred:\n",
      "\u001b[0;31mTypeError\u001b[0m                                 Traceback (most recent call last)",
      "\u001b[0;32m<ipython-input-4-60b3f6a2c9c8>\u001b[0m in \u001b[0;36m<module>\u001b[0;34m\u001b[0m\n\u001b[1;32m      1\u001b[0m \u001b[0msc\u001b[0m\u001b[0;34m.\u001b[0m\u001b[0msettings\u001b[0m\u001b[0;34m.\u001b[0m\u001b[0mverbosity\u001b[0m \u001b[0;34m=\u001b[0m \u001b[0;36m3\u001b[0m \u001b[0;31m# verbosity: errors (0), warnings (1), info (2), hints (3)\u001b[0m\u001b[0;34m\u001b[0m\u001b[0;34m\u001b[0m\u001b[0m\n\u001b[0;32m----> 2\u001b[0;31m \u001b[0msc\u001b[0m\u001b[0;34m.\u001b[0m\u001b[0mlogging\u001b[0m\u001b[0;34m.\u001b[0m\u001b[0mprint_versions\u001b[0m\u001b[0;34m(\u001b[0m\u001b[0;34m)\u001b[0m\u001b[0;34m\u001b[0m\u001b[0;34m\u001b[0m\u001b[0m\n\u001b[0m\u001b[1;32m      3\u001b[0m \u001b[0msc\u001b[0m\u001b[0;34m.\u001b[0m\u001b[0msettings\u001b[0m\u001b[0;34m.\u001b[0m\u001b[0mset_figure_params\u001b[0m\u001b[0;34m(\u001b[0m\u001b[0mdpi\u001b[0m\u001b[0;34m=\u001b[0m\u001b[0;36m150\u001b[0m\u001b[0;34m)\u001b[0m\u001b[0;34m\u001b[0m\u001b[0;34m\u001b[0m\u001b[0m\n",
      "\u001b[0;32m/opt/miniconda3/envs/scenic_protocol/lib/python3.6/site-packages/scanpy/logging.py\u001b[0m in \u001b[0;36mprint_versions\u001b[0;34m(file)\u001b[0m\n\u001b[1;32m    159\u001b[0m     \u001b[0;32mtry\u001b[0m\u001b[0;34m:\u001b[0m\u001b[0;34m\u001b[0m\u001b[0;34m\u001b[0m\u001b[0m\n\u001b[1;32m    160\u001b[0m         \u001b[0mbuf\u001b[0m \u001b[0;34m=\u001b[0m \u001b[0msys\u001b[0m\u001b[0;34m.\u001b[0m\u001b[0mstdout\u001b[0m \u001b[0;34m=\u001b[0m \u001b[0mio\u001b[0m\u001b[0;34m.\u001b[0m\u001b[0mStringIO\u001b[0m\u001b[0;34m(\u001b[0m\u001b[0;34m)\u001b[0m\u001b[0;34m\u001b[0m\u001b[0;34m\u001b[0m\u001b[0m\n\u001b[0;32m--> 161\u001b[0;31m         \u001b[0msinfo\u001b[0m\u001b[0;34m(\u001b[0m\u001b[0mdependencies\u001b[0m\u001b[0;34m=\u001b[0m\u001b[0;32mTrue\u001b[0m\u001b[0;34m)\u001b[0m\u001b[0;34m\u001b[0m\u001b[0;34m\u001b[0m\u001b[0m\n\u001b[0m\u001b[1;32m    162\u001b[0m     \u001b[0;32mfinally\u001b[0m\u001b[0;34m:\u001b[0m\u001b[0;34m\u001b[0m\u001b[0;34m\u001b[0m\u001b[0m\n\u001b[1;32m    163\u001b[0m         \u001b[0msys\u001b[0m\u001b[0;34m.\u001b[0m\u001b[0mstdout\u001b[0m \u001b[0;34m=\u001b[0m \u001b[0mstdout\u001b[0m\u001b[0;34m\u001b[0m\u001b[0;34m\u001b[0m\u001b[0m\n",
      "\u001b[0;32m/opt/miniconda3/envs/scenic_protocol/lib/python3.6/site-packages/sinfo/main.py\u001b[0m in \u001b[0;36msinfo\u001b[0;34m(na, os, cpu, jupyter, dependencies, std_lib, private, write_req_file, req_file_name, html, excludes)\u001b[0m\n\u001b[1;32m    196\u001b[0m             \u001b[0;32mexcept\u001b[0m \u001b[0mAttributeError\u001b[0m\u001b[0;34m:\u001b[0m\u001b[0;34m\u001b[0m\u001b[0;34m\u001b[0m\u001b[0m\n\u001b[1;32m    197\u001b[0m                 \u001b[0;32mtry\u001b[0m\u001b[0;34m:\u001b[0m\u001b[0;34m\u001b[0m\u001b[0;34m\u001b[0m\u001b[0m\n\u001b[0;32m--> 198\u001b[0;31m                     \u001b[0mmod_version\u001b[0m \u001b[0;34m=\u001b[0m \u001b[0m_find_version\u001b[0m\u001b[0;34m(\u001b[0m\u001b[0mmod\u001b[0m\u001b[0;34m.\u001b[0m\u001b[0mversion\u001b[0m\u001b[0;34m)\u001b[0m\u001b[0;34m\u001b[0m\u001b[0;34m\u001b[0m\u001b[0m\n\u001b[0m\u001b[1;32m    199\u001b[0m                 \u001b[0;32mexcept\u001b[0m \u001b[0mAttributeError\u001b[0m\u001b[0;34m:\u001b[0m\u001b[0;34m\u001b[0m\u001b[0;34m\u001b[0m\u001b[0m\n\u001b[1;32m    200\u001b[0m                     \u001b[0;32mtry\u001b[0m\u001b[0;34m:\u001b[0m\u001b[0;34m\u001b[0m\u001b[0;34m\u001b[0m\u001b[0m\n",
      "\u001b[0;32m/opt/miniconda3/envs/scenic_protocol/lib/python3.6/site-packages/sinfo/main.py\u001b[0m in \u001b[0;36m_find_version\u001b[0;34m(mod_version_attr)\u001b[0m\n\u001b[1;32m     40\u001b[0m         \u001b[0;32mreturn\u001b[0m \u001b[0mjoined_tuple\u001b[0m\u001b[0;34m\u001b[0m\u001b[0;34m\u001b[0m\u001b[0m\n\u001b[1;32m     41\u001b[0m     \u001b[0;32melif\u001b[0m \u001b[0mcallable\u001b[0m\u001b[0;34m(\u001b[0m\u001b[0mmod_version_attr\u001b[0m\u001b[0;34m)\u001b[0m\u001b[0;34m:\u001b[0m\u001b[0;34m\u001b[0m\u001b[0;34m\u001b[0m\u001b[0m\n\u001b[0;32m---> 42\u001b[0;31m         \u001b[0;32mreturn\u001b[0m \u001b[0mmod_version_attr\u001b[0m\u001b[0;34m(\u001b[0m\u001b[0;34m)\u001b[0m\u001b[0;34m\u001b[0m\u001b[0;34m\u001b[0m\u001b[0m\n\u001b[0m\u001b[1;32m     43\u001b[0m     \u001b[0;32melse\u001b[0m\u001b[0;34m:\u001b[0m\u001b[0;34m\u001b[0m\u001b[0;34m\u001b[0m\u001b[0m\n\u001b[1;32m     44\u001b[0m         \u001b[0;31m# print(f'Does not support module version of type {type(mod_ver_attr)}')\u001b[0m\u001b[0;34m\u001b[0m\u001b[0;34m\u001b[0m\u001b[0;34m\u001b[0m\u001b[0m\n",
      "\u001b[0;31mTypeError\u001b[0m: version() missing 1 required positional argument: 'distribution_name'"
     ]
    }
   ],
   "source": [
    "sc.settings.verbosity = 3 # verbosity: errors (0), warnings (1), info (2), hints (3)\n",
    "# sc.logging.print_versions()\n",
    "sc.settings.set_figure_params(dpi=150)"
   ]
  },
  {
   "cell_type": "markdown",
   "metadata": {},
   "source": [
    "## Extract relevant data from the integrated loom file"
   ]
  },
  {
   "cell_type": "code",
   "execution_count": null,
   "metadata": {},
   "outputs": [],
   "source": [
    "# scenic output\n",
    "lf = lp.connect( loom_file, mode='r', validate=False )\n",
    "meta = json.loads(zlib.decompress(base64.b64decode( lf.attrs.MetaData )))\n",
    "exprMat = pd.DataFrame( lf[:,:], index=lf.ra.Gene, columns=lf.ca.CellID).T\n",
    "auc_mtx = pd.DataFrame( lf.ca.RegulonsAUC, index=lf.ca.CellID)"
   ]
  },
  {
   "cell_type": "code",
   "execution_count": null,
   "metadata": {},
   "outputs": [],
   "source": [
    "thresholds = {}\n",
    "for i in meta['regulonThresholds']:\n",
    "    j=i['regulon']\n",
    "#     print(j)\n",
    "    thresholds[j] = i['defaultThresholdValue']"
   ]
  },
  {
   "cell_type": "code",
   "execution_count": null,
   "metadata": {},
   "outputs": [],
   "source": [
    "# create a dictionary of regulons:\n",
    "regulons = {}\n",
    "for i,r in pd.DataFrame(lf.ra.Regulons,index=lf.ra.Gene).iteritems():\n",
    "    regulons[i] =  list(r[r==1].index.values)"
   ]
  },
  {
   "cell_type": "code",
   "execution_count": null,
   "metadata": {},
   "outputs": [],
   "source": [
    "# capture embeddings:\n",
    "dr = [\n",
    "    pd.DataFrame( lf.ca.Embedding, index=lf.ca.CellID )\n",
    "]\n",
    "dr_names = [\n",
    "    meta['embeddings'][0]['name'].replace(\" \",\"_\")\n",
    "]\n",
    "\n",
    "# add other embeddings\n",
    "drx = pd.DataFrame( lf.ca.Embeddings_X, index=lf.ca.CellID )\n",
    "dry = pd.DataFrame( lf.ca.Embeddings_Y, index=lf.ca.CellID )\n",
    "\n",
    "for i in range( len(drx.columns) ):\n",
    "    dr.append( pd.concat( [ drx.iloc[:,i], dry.iloc[:,i] ], sort=False, axis=1, join='outer' ))\n",
    "    dr_names.append( meta['embeddings'][i+1]['name'].replace(\" \",\"_\").replace('/','-') )\n",
    "\n",
    "# rename columns:\n",
    "for i,x in enumerate( dr ):\n",
    "    x.columns = ['X','Y']"
   ]
  },
  {
   "cell_type": "code",
   "execution_count": null,
   "metadata": {},
   "outputs": [],
   "source": [
    "lf.close()"
   ]
  },
  {
   "cell_type": "markdown",
   "metadata": {},
   "source": [
    "# find gene length of regulons"
   ]
  },
  {
   "cell_type": "markdown",
   "metadata": {},
   "source": [
    "## query n genes in any regulon"
   ]
  },
  {
   "cell_type": "code",
   "execution_count": null,
   "metadata": {},
   "outputs": [],
   "source": [
    "regulons.keys()"
   ]
  },
  {
   "cell_type": "code",
   "execution_count": null,
   "metadata": {},
   "outputs": [],
   "source": [
    "myregulon = 'ATF6B_(+)'\n",
    "\n",
    "regulon_length = len(regulons[myregulon])\n",
    "f\"There are {regulon_length} genes in {myregulon}.\""
   ]
  },
  {
   "cell_type": "markdown",
   "metadata": {},
   "source": [
    "## distribution of number of genes per regulon"
   ]
  },
  {
   "cell_type": "code",
   "execution_count": null,
   "metadata": {},
   "outputs": [],
   "source": [
    "import numpy as np\n",
    "\n",
    "ncells = {key: len(value) for key, value in regulons.items()}\n",
    "\n",
    "pd.Series([*ncells.values()]).describe()\n",
    "# np.min(ncells.values())\n",
    "# length_key = length_dict['key']  # length of the list stored at `'key'` ..."
   ]
  },
  {
   "cell_type": "markdown",
   "metadata": {},
   "source": [
    "### Alternately, we can load this data into a `scanpy.AnnData` object\n",
    "\n",
    "This can be done directly from the integrated loom file, with a few modifications to allow for SCENIC- and SCope-specific loom attributes:"
   ]
  },
  {
   "cell_type": "code",
   "execution_count": null,
   "metadata": {},
   "outputs": [],
   "source": [
    "adata = sc.read( loom_file, validate=False)"
   ]
  },
  {
   "cell_type": "code",
   "execution_count": null,
   "metadata": {},
   "outputs": [],
   "source": [
    "# drop the embeddings and extra attributes from the obs object\n",
    "adata.obs.drop( ['Embedding','Embeddings_X','Embeddings_Y','RegulonsAUC'], axis=1, inplace=True )"
   ]
  },
  {
   "cell_type": "code",
   "execution_count": null,
   "metadata": {},
   "outputs": [],
   "source": [
    "# add the embeddings into the adata.obsm object\n",
    "for i,x in enumerate( dr ):\n",
    "    adata.obsm[ 'X_'+dr_names[i] ] = x.values"
   ]
  },
  {
   "cell_type": "code",
   "execution_count": null,
   "metadata": {},
   "outputs": [],
   "source": [
    "sc._utils.sanitize_anndata( adata )"
   ]
  },
  {
   "cell_type": "code",
   "execution_count": null,
   "metadata": {},
   "outputs": [],
   "source": [
    "adata_h5ad = sc.read(adata_file)\n",
    "\n",
    "metadata = adata_h5ad.obs\n",
    "\n",
    "new_adata_obs = adata.obs.join(metadata, how = \"left\")"
   ]
  },
  {
   "cell_type": "code",
   "execution_count": null,
   "metadata": {},
   "outputs": [],
   "source": [
    "adata.obs = new_adata_obs\n",
    "adata.obs.columns"
   ]
  },
  {
   "cell_type": "code",
   "execution_count": null,
   "metadata": {},
   "outputs": [],
   "source": [
    "# cell annotations from the anndata column attributes:\n",
    "cellAnnot = adata.obs"
   ]
  },
  {
   "cell_type": "markdown",
   "metadata": {},
   "source": [
    "#### We can also add all metadata derived from SCENIC to the `scanpy.AnnData` object."
   ]
  },
  {
   "cell_type": "code",
   "execution_count": null,
   "metadata": {},
   "outputs": [],
   "source": [
    "# # load the regulons from a file using the load_signatures function\n",
    "# sig = load_signatures('reg.csv')\n",
    "# adata = add_scenic_metadata(adata, auc_mtx, sig)"
   ]
  },
  {
   "cell_type": "markdown",
   "metadata": {},
   "source": [
    "---\n",
    "## Display a motifs table with motif logos"
   ]
  },
  {
   "cell_type": "markdown",
   "metadata": {},
   "source": [
    "#### View the motifs table along with motif logos"
   ]
  },
  {
   "cell_type": "code",
   "execution_count": null,
   "metadata": {},
   "outputs": [],
   "source": [
    "# # helper functions (not yet integrated into pySCENIC):\n",
    "\n",
    "# from pyscenic.utils import load_motifs\n",
    "# import operator as op\n",
    "# from IPython.display import HTML, display\n",
    "\n",
    "# BASE_URL = \"http://motifcollections.aertslab.org/v9/logos/\"\n",
    "# COLUMN_NAME_LOGO = \"MotifLogo\"\n",
    "# COLUMN_NAME_MOTIF_ID = \"MotifID\"\n",
    "# COLUMN_NAME_TARGETS = \"TargetGenes\"\n",
    "\n",
    "# def display_logos(df: pd.DataFrame, top_target_genes: int = 3, base_url: str = BASE_URL):\n",
    "#     \"\"\"\n",
    "#     :param df:\n",
    "#     :param base_url:\n",
    "#     \"\"\"\n",
    "#     # Make sure the original dataframe is not altered.\n",
    "#     df = df.copy()\n",
    "    \n",
    "#     # Add column with URLs to sequence logo.\n",
    "#     def create_url(motif_id):\n",
    "#         return '<img src=\"{}{}.png\" style=\"max-height:124px;\"></img>'.format(base_url, motif_id)\n",
    "#     df[(\"Enrichment\", COLUMN_NAME_LOGO)] = list(map(create_url, df.index.get_level_values(COLUMN_NAME_MOTIF_ID)))\n",
    "    \n",
    "#     # Truncate TargetGenes.\n",
    "#     def truncate(col_val):\n",
    "#         return sorted(col_val, key=op.itemgetter(1))[:top_target_genes]\n",
    "#     df[(\"Enrichment\", COLUMN_NAME_TARGETS)] = list(map(truncate, df[(\"Enrichment\", COLUMN_NAME_TARGETS)]))\n",
    "    \n",
    "#     MAX_COL_WIDTH = pd.get_option('display.max_colwidth')\n",
    "#     pd.set_option('display.max_colwidth', 200)\n",
    "#     display(HTML(df.head().to_html(escape=False)))\n",
    "#     pd.set_option('display.max_colwidth', MAX_COL_WIDTH)"
   ]
  },
  {
   "cell_type": "code",
   "execution_count": null,
   "metadata": {},
   "outputs": [],
   "source": [
    "# df_motifs = load_motifs('reg.csv')"
   ]
  },
  {
   "cell_type": "code",
   "execution_count": null,
   "metadata": {},
   "outputs": [],
   "source": [
    "# selected_motifs = ['PAX5','TCF3','EBF1']\n",
    "# df_motifs_sel = df_motifs.iloc[ [ True if x in selected_motifs else False for x in df_motifs.index.get_level_values('TF') ] ,:]"
   ]
  },
  {
   "cell_type": "code",
   "execution_count": null,
   "metadata": {},
   "outputs": [],
   "source": [
    "# #display_logos(df_motifs.head())\n",
    "# display_logos( df_motifs_sel.sort_values([('Enrichment','NES')], ascending=False).head(9))"
   ]
  },
  {
   "cell_type": "markdown",
   "metadata": {},
   "source": [
    "---\n",
    "# Dimensionality reduction plots"
   ]
  },
  {
   "cell_type": "markdown",
   "metadata": {},
   "source": [
    "### Alternately, we can plot two dimensionality reductions side-by-side\n",
    "\n",
    "(this uses non-Scanpy plotting functions)"
   ]
  },
  {
   "cell_type": "code",
   "execution_count": null,
   "metadata": {},
   "outputs": [],
   "source": [
    "def colorMap( x, palette='bright' ):\n",
    "    import natsort\n",
    "    from collections import OrderedDict\n",
    "    #\n",
    "    n=len(set(x))\n",
    "    cpalette = sns.color_palette(palette,n_colors=n )\n",
    "    cdict = dict( zip( list(set(x)), cpalette ))\n",
    "    cmap = [ cdict[i] for i in x ]\n",
    "    cdict = OrderedDict( natsort.natsorted(cdict.items()) )\n",
    "    return cmap,cdict\n",
    "\n",
    "def drplot( dr, colorlab, ax, palette='bright', title=None, **kwargs ):\n",
    "    cmap,cdict = colorMap( colorlab, palette )\n",
    "    for lab,col in cdict.items():  \n",
    "        ix = colorlab.loc[colorlab==lab].index\n",
    "        ax.scatter( dr['X'][ix], dr['Y'][ix], c=[col]*len(ix), alpha=0.7, label=lab, edgecolors='none')\n",
    "    if( title is not None ):\n",
    "        ax.set_title(title, fontsize='x-large');\n",
    "    #\n",
    "    ax.set_xticks([])\n",
    "    ax.set_yticks([])\n",
    "    ax.spines['top'].set_visible(False)\n",
    "    ax.spines['right'].set_visible(False)\n",
    "    ax.spines['bottom'].set_visible(False)\n",
    "    ax.spines['left'].set_visible(False)\n"
   ]
  },
  {
   "cell_type": "code",
   "execution_count": null,
   "metadata": {},
   "outputs": [],
   "source": [
    "plt.rcParams.update({'font.size':12})\n",
    "\n",
    "fig, (ax1,ax2) = plt.subplots(1,2, figsize=(20,10), dpi=150 )\n",
    "\n",
    "drplot( dr[0], colorlab=cellAnnot['Louvain_clusters_Scanpy'], ax=ax1, palette='bright', s=2, title='Highly variable genes - UMAP' )\n",
    "\n",
    "drplot( dr[4], colorlab=cellAnnot['Louvain_clusters_Scanpy'], ax=ax2, palette='bright', s=2, title='SCENIC AUC - UMAP' )\n",
    "ax2.legend(loc='right', bbox_to_anchor=(1.15, 0.5), ncol=1, markerscale=2, fontsize='x-large', frameon=False, title=\"Louvain\\nclusters\")\n",
    "\n",
    "plt.tight_layout()\n",
    "plt.savefig(\"PBMC10k_dimred_umap-hvg-scenic-louvain.pdf\", dpi=600, bbox_inches = \"tight\")"
   ]
  },
  {
   "cell_type": "code",
   "execution_count": null,
   "metadata": {},
   "outputs": [],
   "source": [
    "from pyscenic.rss import regulon_specificity_scores\n",
    "from pyscenic.plotting import plot_rss\n",
    "import matplotlib.pyplot as plt\n",
    "from adjustText import adjust_text\n",
    "import seaborn as sns\n",
    "from pyscenic.binarization import binarize"
   ]
  },
  {
   "cell_type": "markdown",
   "metadata": {},
   "source": [
    "### RSS panel plot with all cell types"
   ]
  },
  {
   "cell_type": "code",
   "execution_count": null,
   "metadata": {},
   "outputs": [],
   "source": [
    "def palplot(pal, names, colors=None, size=1):\n",
    "    n = len(pal)\n",
    "    f, ax = plt.subplots(1, 1, figsize=(n * size, size))\n",
    "    ax.imshow(np.arange(n).reshape(1, n),\n",
    "              cmap=mpl.colors.ListedColormap(list(pal)),\n",
    "              interpolation=\"nearest\", aspect=\"auto\")\n",
    "    ax.set_xticks(np.arange(n) - .5)\n",
    "    ax.set_yticks([-.5, .5])\n",
    "    ax.set_xticklabels([])\n",
    "    ax.set_yticklabels([])\n",
    "    colors = n * ['k'] if colors is None else colors\n",
    "    for idx, (name, color) in enumerate(zip(names, colors)):\n",
    "        ax.text(0.0+idx, 0.0, name, color=color, horizontalalignment='center', verticalalignment='center')\n",
    "    return f"
   ]
  },
  {
   "cell_type": "markdown",
   "metadata": {},
   "source": [
    "# Regulon specificity scores (RSS) across cell metadata"
   ]
  },
  {
   "cell_type": "markdown",
   "metadata": {},
   "source": [
    "## Metadata = Louvain clusters at resolution 1.6"
   ]
  },
  {
   "cell_type": "code",
   "execution_count": null,
   "metadata": {},
   "outputs": [],
   "source": [
    "metavar=\"transcript_snn_res.1.6\""
   ]
  },
  {
   "cell_type": "code",
   "execution_count": null,
   "metadata": {},
   "outputs": [],
   "source": [
    "cellAnnot"
   ]
  },
  {
   "cell_type": "markdown",
   "metadata": {},
   "source": [
    "### Calculate RSS"
   ]
  },
  {
   "cell_type": "code",
   "execution_count": null,
   "metadata": {},
   "outputs": [],
   "source": [
    "rss_louvain = regulon_specificity_scores( auc_mtx, cellAnnot[metavar] )\n",
    "rss_louvain"
   ]
  },
  {
   "cell_type": "code",
   "execution_count": null,
   "metadata": {},
   "outputs": [],
   "source": [
    "rss_louvain.to_csv('output/scenic/RSS_specificity_scores.csv', index = False)"
   ]
  },
  {
   "cell_type": "markdown",
   "metadata": {},
   "source": [
    "### RSS panel plot with all louvain clusters"
   ]
  },
  {
   "cell_type": "code",
   "execution_count": null,
   "metadata": {},
   "outputs": [],
   "source": [
    "cats = sorted( list(set(cellAnnot[metavar].dropna())), key=int )\n",
    "\n",
    "fig = plt.figure(figsize=(15, 12))\n",
    "for c,num in zip(cats, range(1,len(cats)+1)):\n",
    "    x=rss_louvain.T[c]\n",
    "    ax = fig.add_subplot(3,5,num)\n",
    "    plot_rss(rss_louvain, c, top_n=5, max_n=None, ax=ax)\n",
    "    ax.set_ylim( x.min()-(x.max()-x.min())*0.05 , x.max()+(x.max()-x.min())*0.05 )\n",
    "    for t in ax.texts:\n",
    "        t.set_fontsize(12)\n",
    "    ax.set_ylabel('')\n",
    "    ax.set_xlabel('')\n",
    "    adjust_text(ax.texts, autoalign='xy', ha='right', va='bottom', arrowprops=dict(arrowstyle='-',color='lightgrey'), precision=0.001 )\n",
    " \n",
    "fig.text(0.5, 0.0, 'Regulon', ha='center', va='center', size='x-large')\n",
    "fig.text(0.00, 0.5, 'Regulon specificity score (RSS)', ha='center', va='center', rotation='vertical', size='x-large')\n",
    "plt.tight_layout()\n",
    "plt.rcParams.update({\n",
    "    'figure.autolayout': True,\n",
    "        'figure.titlesize': 'large' ,\n",
    "        'axes.labelsize': 'medium',\n",
    "        'axes.titlesize':'large',\n",
    "        'xtick.labelsize':'medium',\n",
    "        'ytick.labelsize':'medium'\n",
    "        })\n",
    "plt.savefig(\"PBMC10k_Louvain-RSS-top5.png\", dpi=150, bbox_inches = \"tight\")\n",
    "plt.show()"
   ]
  },
  {
   "cell_type": "markdown",
   "metadata": {},
   "source": [
    "### Select the top 5 regulons from each louvain cluster"
   ]
  },
  {
   "cell_type": "code",
   "execution_count": null,
   "metadata": {},
   "outputs": [],
   "source": [
    "topreg = []\n",
    "for i,c in enumerate(cats):\n",
    "    topreg.extend(\n",
    "        list(rss_louvain.T[c].sort_values(ascending=False)[:5].index)\n",
    "    )\n",
    "topreg = list(set(topreg))"
   ]
  },
  {
   "cell_type": "markdown",
   "metadata": {},
   "source": [
    "# Calculate mean AUC per cluster"
   ]
  },
  {
   "cell_type": "code",
   "execution_count": null,
   "metadata": {},
   "outputs": [],
   "source": [
    "topreg\n",
    "auc_meta = pd.merge(adata.obs, auc_mtx, how = \"left\", left_index = True, right_index = True)\n",
    "# adata.obs[\"integrated_snn_res.1.6\"].value_counts()\n",
    "# auc_mtx\n",
    "mean_regulon_by_meta = auc_meta.groupby(metavar)[topreg].mean()\n",
    "mean_regulon_by_meta"
   ]
  },
  {
   "cell_type": "markdown",
   "metadata": {},
   "source": [
    "#### Generate a Z-score for each regulon to enable comparison between regulons"
   ]
  },
  {
   "cell_type": "code",
   "execution_count": null,
   "metadata": {},
   "outputs": [],
   "source": [
    "auc_mtx_Z = pd.DataFrame( index=auc_mtx.index )\n",
    "for col in list(auc_mtx.columns):\n",
    "    auc_mtx_Z[ col ] = ( auc_mtx[col] - auc_mtx[col].mean()) / auc_mtx[col].std(ddof=0)\n",
    "#auc_mtx_Z.sort_index(inplace=True)"
   ]
  },
  {
   "cell_type": "markdown",
   "metadata": {},
   "source": [
    "#### Generate a heatmap"
   ]
  },
  {
   "cell_type": "code",
   "execution_count": null,
   "metadata": {},
   "outputs": [],
   "source": [
    "def palplot(pal, names, colors=None, size=1):\n",
    "    n = len(pal)\n",
    "    f, ax = plt.subplots(1, 1, figsize=(n * size, size))\n",
    "    ax.imshow(np.arange(n).reshape(1, n),\n",
    "              cmap=mpl.colors.ListedColormap(list(pal)),\n",
    "              interpolation=\"nearest\", aspect=\"auto\")\n",
    "    ax.set_xticks(np.arange(n) - .5)\n",
    "    ax.set_yticks([-.5, .5])\n",
    "    ax.set_xticklabels([])\n",
    "    ax.set_yticklabels([])\n",
    "    colors = n * ['k'] if colors is None else colors\n",
    "    for idx, (name, color) in enumerate(zip(names, colors)):\n",
    "        ax.text(0.0+idx, 0.0, name, color=color, horizontalalignment='center', verticalalignment='center')\n",
    "    return f"
   ]
  },
  {
   "cell_type": "code",
   "execution_count": null,
   "metadata": {},
   "outputs": [],
   "source": [
    "cellAnnot.index = cellAnnot.index.str.replace(\"ds20170407_S\", \"ds20170407-\")\n",
    "cellAnnot = cellAnnot.sort_values(metavar)\n",
    "cellAnnot.index"
   ]
  },
  {
   "cell_type": "code",
   "execution_count": null,
   "metadata": {},
   "outputs": [],
   "source": [
    "auc_mtx = auc_mtx.reindex(cellAnnot.index)"
   ]
  },
  {
   "cell_type": "code",
   "execution_count": null,
   "metadata": {},
   "outputs": [],
   "source": [
    "cats"
   ]
  },
  {
   "cell_type": "code",
   "execution_count": null,
   "metadata": {},
   "outputs": [],
   "source": [
    "colors = sns.color_palette('bright',n_colors=len(cats) )\n",
    "colorsd = dict( zip( cats, colors ))\n",
    "colormap = [ colorsd[x] for x in cellAnnot[metavar].dropna() ]"
   ]
  },
  {
   "cell_type": "code",
   "execution_count": null,
   "metadata": {},
   "outputs": [],
   "source": [
    "sns.set()\n",
    "sns.set(font_scale=0.8)\n",
    "fig = palplot( colors, cats, size=1.0)"
   ]
  },
  {
   "cell_type": "code",
   "execution_count": null,
   "metadata": {},
   "outputs": [],
   "source": [
    "# change row_cluster argument to cluster by ward or else order by specified cell metadata (whatever is currently assigned to metavar)\n",
    "\n",
    "sns.set(font_scale=1.2)\n",
    "g = sns.clustermap(auc_mtx_Z[topreg], mask=False,  square=False,  linecolor='gray',\n",
    "    yticklabels=False, vmin=-2, vmax=6, row_colors=colormap, row_cluster=False, method = 'ward',\n",
    "    cmap=\"YlGnBu\", figsize=(21,16) )\n",
    "g.cax.set_visible(True)\n",
    "g.ax_heatmap.set_ylabel('')    \n",
    "g.ax_heatmap.set_xlabel('')    "
   ]
  },
  {
   "cell_type": "code",
   "execution_count": null,
   "metadata": {},
   "outputs": [],
   "source": [
    "g.savefig('scenic_heatmap.png', dpi=600, bbox_inches='tight')"
   ]
  },
  {
   "cell_type": "markdown",
   "metadata": {},
   "source": [
    "### Generate a binary regulon activity matrix:"
   ]
  },
  {
   "cell_type": "code",
   "execution_count": null,
   "metadata": {},
   "outputs": [],
   "source": [
    "from timeit import default_timer as timer\n",
    "from datetime import timedelta\n",
    "\n",
    "start = timer()\n",
    "end = timer()\n",
    "print(timedelta(seconds=end-start))"
   ]
  },
  {
   "cell_type": "code",
   "execution_count": null,
   "metadata": {},
   "outputs": [],
   "source": [
    "binary_mtx, auc_thresholds = binarize(auc_mtx, num_workers=6)\n",
    "binary_mtx.head()"
   ]
  },
  {
   "cell_type": "markdown",
   "metadata": {},
   "source": [
    "### Show the AUC distributions for selected regulons"
   ]
  },
  {
   "cell_type": "code",
   "execution_count": null,
   "metadata": {},
   "outputs": [],
   "source": [
    "# select regulons:\n",
    "r = [ 'AHR_(+)', 'ATF6B_(+)', 'CEBPB_(+)' ]\n",
    "\n",
    "fig, axs = plt.subplots(1, 3, figsize=(12, 4), dpi=150, sharey=False)\n",
    "for i,ax in enumerate(axs):\n",
    "    sns.distplot(auc_mtx[ r[i] ], ax=ax, norm_hist=True, bins=100)\n",
    "    ax.plot( [ thresholds[ r[i] ] ]*2, ax.get_ylim(), 'r:')\n",
    "    ax.title.set_text( r[i] )\n",
    "    ax.set_xlabel('') \n",
    "fig.text(-0.01, 0.5, 'Frequency', ha='center', va='center', rotation='vertical', size='large')\n",
    "fig.text(0.5, -0.01, 'AUC', ha='center', va='center', rotation='horizontal', size='large')\n",
    "\n",
    "fig.tight_layout()\n",
    "fig.savefig('PBMC10k_cellType-binaryPlot2.pdf', dpi=600, bbox_inches='tight')"
   ]
  },
  {
   "cell_type": "markdown",
   "metadata": {},
   "source": [
    "# display regulon scores on umap"
   ]
  },
  {
   "cell_type": "code",
   "execution_count": null,
   "metadata": {},
   "outputs": [],
   "source": [
    "adata_h5ad.obs[auc_mtx.columns] = auc_mtx"
   ]
  },
  {
   "cell_type": "code",
   "execution_count": null,
   "metadata": {},
   "outputs": [],
   "source": [
    "adata_h5ad.obs"
   ]
  },
  {
   "cell_type": "code",
   "execution_count": null,
   "metadata": {},
   "outputs": [],
   "source": [
    "# mean_regulon_by_meta.loc[:,\"CREB3_(+)\"]"
   ]
  },
  {
   "cell_type": "code",
   "execution_count": null,
   "metadata": {},
   "outputs": [],
   "source": [
    "sc.pl.umap(adata_h5ad, color=auc_mtx.columns, size=60, save='.pdf')"
   ]
  },
  {
   "cell_type": "code",
   "execution_count": null,
   "metadata": {},
   "outputs": [],
   "source": [
    "\n",
    "\n"
   ]
  },
  {
   "cell_type": "code",
   "execution_count": null,
   "metadata": {},
   "outputs": [],
   "source": []
  }
 ],
 "metadata": {
  "kernelspec": {
   "display_name": "scenic_protocol",
   "language": "python",
   "name": "scenic_protocol"
  },
  "language_info": {
   "codemirror_mode": {
    "name": "ipython",
    "version": 3
   },
   "file_extension": ".py",
   "mimetype": "text/x-python",
   "name": "python",
   "nbconvert_exporter": "python",
   "pygments_lexer": "ipython3",
   "version": "3.6.12"
  }
 },
 "nbformat": 4,
 "nbformat_minor": 4
}
